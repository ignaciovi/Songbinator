{
 "cells": [
  {
   "cell_type": "code",
   "execution_count": 33,
   "metadata": {},
   "outputs": [
    {
     "name": "stdout",
     "output_type": "stream",
     "text": [
      "\n",
      "\n",
      "            User authentication requires interaction with your\n",
      "            web browser. Once you enter your credentials and\n",
      "            give authorization, you will be redirected to\n",
      "            a url.  Paste that url you were directed to to\n",
      "            complete the authorization.\n",
      "\n",
      "        \n",
      "Opened https://accounts.spotify.com/authorize?client_id=b9147e7fb3954d24a264480d4a63700d&response_type=code&redirect_uri=http%3A%2F%2F127.0.0.1%3A5000%2F&scope=playlist-modify-private+playlist-modify-public+playlist-read-private in your browser\n",
      "\n",
      "\n",
      "Enter the URL you were redirected to: \n",
      "\n",
      "\n"
     ]
    },
    {
     "ename": "SpotifyOauthError",
     "evalue": "Bad Request",
     "output_type": "error",
     "traceback": [
      "\u001b[1;31m---------------------------------------------------------------------------\u001b[0m",
      "\u001b[1;31mSpotifyOauthError\u001b[0m                         Traceback (most recent call last)",
      "\u001b[1;32m<ipython-input-33-cc0184e7821c>\u001b[0m in \u001b[0;36m<module>\u001b[1;34m\u001b[0m\n\u001b[0;32m      7\u001b[0m         \u001b[0mclient_id\u001b[0m\u001b[1;33m=\u001b[0m\u001b[1;34m\"b9147e7fb3954d24a264480d4a63700d\"\u001b[0m\u001b[1;33m,\u001b[0m\u001b[1;33m\u001b[0m\u001b[1;33m\u001b[0m\u001b[0m\n\u001b[0;32m      8\u001b[0m         \u001b[0mclient_secret\u001b[0m\u001b[1;33m=\u001b[0m\u001b[1;34m\"45f9260cb0174d4aa27d58738e0e3791\"\u001b[0m\u001b[1;33m,\u001b[0m\u001b[1;33m\u001b[0m\u001b[1;33m\u001b[0m\u001b[0m\n\u001b[1;32m----> 9\u001b[1;33m     \u001b[0mredirect_uri\u001b[0m\u001b[1;33m=\u001b[0m\u001b[1;34m\"http://127.0.0.1:5000/\"\u001b[0m\u001b[1;33m\u001b[0m\u001b[1;33m\u001b[0m\u001b[0m\n\u001b[0m\u001b[0;32m     10\u001b[0m )\n\u001b[0;32m     11\u001b[0m \u001b[1;33m\u001b[0m\u001b[0m\n",
      "\u001b[1;32m~\\Anaconda3\\lib\\site-packages\\spotipy\\util.py\u001b[0m in \u001b[0;36mprompt_for_user_token\u001b[1;34m(username, scope, client_id, client_secret, redirect_uri)\u001b[0m\n\u001b[0;32m     84\u001b[0m \u001b[1;33m\u001b[0m\u001b[0m\n\u001b[0;32m     85\u001b[0m         \u001b[0mcode\u001b[0m \u001b[1;33m=\u001b[0m \u001b[0msp_oauth\u001b[0m\u001b[1;33m.\u001b[0m\u001b[0mparse_response_code\u001b[0m\u001b[1;33m(\u001b[0m\u001b[0mresponse\u001b[0m\u001b[1;33m)\u001b[0m\u001b[1;33m\u001b[0m\u001b[1;33m\u001b[0m\u001b[0m\n\u001b[1;32m---> 86\u001b[1;33m         \u001b[0mtoken_info\u001b[0m \u001b[1;33m=\u001b[0m \u001b[0msp_oauth\u001b[0m\u001b[1;33m.\u001b[0m\u001b[0mget_access_token\u001b[0m\u001b[1;33m(\u001b[0m\u001b[0mcode\u001b[0m\u001b[1;33m)\u001b[0m\u001b[1;33m\u001b[0m\u001b[1;33m\u001b[0m\u001b[0m\n\u001b[0m\u001b[0;32m     87\u001b[0m     \u001b[1;31m# Auth'ed API request\u001b[0m\u001b[1;33m\u001b[0m\u001b[1;33m\u001b[0m\u001b[1;33m\u001b[0m\u001b[0m\n\u001b[0;32m     88\u001b[0m     \u001b[1;32mif\u001b[0m \u001b[0mtoken_info\u001b[0m\u001b[1;33m:\u001b[0m\u001b[1;33m\u001b[0m\u001b[1;33m\u001b[0m\u001b[0m\n",
      "\u001b[1;32m~\\Anaconda3\\lib\\site-packages\\spotipy\\oauth2.py\u001b[0m in \u001b[0;36mget_access_token\u001b[1;34m(self, code)\u001b[0m\n\u001b[0;32m    215\u001b[0m             headers=headers, verify=True, proxies=self.proxies)\n\u001b[0;32m    216\u001b[0m         \u001b[1;32mif\u001b[0m \u001b[0mresponse\u001b[0m\u001b[1;33m.\u001b[0m\u001b[0mstatus_code\u001b[0m \u001b[1;32mis\u001b[0m \u001b[1;32mnot\u001b[0m \u001b[1;36m200\u001b[0m\u001b[1;33m:\u001b[0m\u001b[1;33m\u001b[0m\u001b[1;33m\u001b[0m\u001b[0m\n\u001b[1;32m--> 217\u001b[1;33m             \u001b[1;32mraise\u001b[0m \u001b[0mSpotifyOauthError\u001b[0m\u001b[1;33m(\u001b[0m\u001b[0mresponse\u001b[0m\u001b[1;33m.\u001b[0m\u001b[0mreason\u001b[0m\u001b[1;33m)\u001b[0m\u001b[1;33m\u001b[0m\u001b[1;33m\u001b[0m\u001b[0m\n\u001b[0m\u001b[0;32m    218\u001b[0m         \u001b[0mtoken_info\u001b[0m \u001b[1;33m=\u001b[0m \u001b[0mresponse\u001b[0m\u001b[1;33m.\u001b[0m\u001b[0mjson\u001b[0m\u001b[1;33m(\u001b[0m\u001b[1;33m)\u001b[0m\u001b[1;33m\u001b[0m\u001b[1;33m\u001b[0m\u001b[0m\n\u001b[0;32m    219\u001b[0m         \u001b[0mtoken_info\u001b[0m \u001b[1;33m=\u001b[0m \u001b[0mself\u001b[0m\u001b[1;33m.\u001b[0m\u001b[0m_add_custom_values_to_token_info\u001b[0m\u001b[1;33m(\u001b[0m\u001b[0mtoken_info\u001b[0m\u001b[1;33m)\u001b[0m\u001b[1;33m\u001b[0m\u001b[1;33m\u001b[0m\u001b[0m\n",
      "\u001b[1;31mSpotifyOauthError\u001b[0m: Bad Request"
     ]
    }
   ],
   "source": [
    "import spotipy\n",
    "import spotipy.util as util\n",
    "\n",
    "token = util.prompt_for_user_token(\n",
    "        username=\"ignaciovi21\",\n",
    "        scope=\"playlist-modify-public playlist-modify-private \",\n",
    "        client_id=\"b9147e7fb3954d24a264480d4a63700d\",\n",
    "        client_secret=\"45f9260cb0174d4aa27d58738e0e3791\",\n",
    "    redirect_uri=\"http://127.0.0.1:5000/\"\n",
    ")\n",
    "\n",
    "spotify = spotipy.Spotify(auth=token)"
   ]
  },
  {
   "cell_type": "code",
   "execution_count": 3,
   "metadata": {},
   "outputs": [
    {
     "data": {
      "text/plain": [
       "{'collaborative': False,\n",
       " 'description': None,\n",
       " 'external_urls': {'spotify': 'https://open.spotify.com/playlist/3K6ULSsAQihO1iZurUYE5Q'},\n",
       " 'followers': {'href': None, 'total': 0},\n",
       " 'href': 'https://api.spotify.com/v1/playlists/3K6ULSsAQihO1iZurUYE5Q',\n",
       " 'id': '3K6ULSsAQihO1iZurUYE5Q',\n",
       " 'images': [],\n",
       " 'name': 'TestPlaylist',\n",
       " 'owner': {'display_name': 'Nacho Valdelvira Isla',\n",
       "  'external_urls': {'spotify': 'https://open.spotify.com/user/ignaciovi21'},\n",
       "  'href': 'https://api.spotify.com/v1/users/ignaciovi21',\n",
       "  'id': 'ignaciovi21',\n",
       "  'type': 'user',\n",
       "  'uri': 'spotify:user:ignaciovi21'},\n",
       " 'primary_color': None,\n",
       " 'public': True,\n",
       " 'snapshot_id': 'MSxkNDQ5OGJlNmU2NjFiMDM3MjY0ZTYxZTRmYmFiYjVkNTJlYTZiM2Uz',\n",
       " 'tracks': {'href': 'https://api.spotify.com/v1/playlists/3K6ULSsAQihO1iZurUYE5Q/tracks',\n",
       "  'items': [],\n",
       "  'limit': 100,\n",
       "  'next': None,\n",
       "  'offset': 0,\n",
       "  'previous': None,\n",
       "  'total': 0},\n",
       " 'type': 'playlist',\n",
       " 'uri': 'spotify:playlist:3K6ULSsAQihO1iZurUYE5Q'}"
      ]
     },
     "execution_count": 3,
     "metadata": {},
     "output_type": "execute_result"
    }
   ],
   "source": [
    "spotify.user_playlist_create(\"ignaciovi21\", \"TestPlaylist\", True)"
   ]
  },
  {
   "cell_type": "code",
   "execution_count": 38,
   "metadata": {},
   "outputs": [],
   "source": [
    "import requests\n",
    "spotify_id_request = requests.get(\n",
    "        \"https://api.spotify.com/v1/me/playlists\",\n",
    "        headers={\"Authorization\": \"Bearer {}\".format(token), \"limit\":\"50\"}).json()"
   ]
  },
  {
   "cell_type": "code",
   "execution_count": 42,
   "metadata": {},
   "outputs": [
    {
     "data": {
      "text/plain": [
       "'https://api.spotify.com/v1/users/ignaciovi21/playlists?offset=0&limit=20'"
      ]
     },
     "execution_count": 42,
     "metadata": {},
     "output_type": "execute_result"
    }
   ],
   "source": [
    "spotify_id_request[\"href\"]"
   ]
  },
  {
   "cell_type": "code",
   "execution_count": 35,
   "metadata": {},
   "outputs": [
    {
     "data": {
      "text/plain": [
       "'Novedades'"
      ]
     },
     "execution_count": 35,
     "metadata": {},
     "output_type": "execute_result"
    }
   ],
   "source": [
    "spotify_id_request[\"items\"][0][\"name\"]"
   ]
  },
  {
   "cell_type": "code",
   "execution_count": 39,
   "metadata": {},
   "outputs": [
    {
     "name": "stdout",
     "output_type": "stream",
     "text": [
      "Novedades\n",
      "Spotify.Me\n",
      "My Shazam Tracks\n",
      "Shinedown + QOFTA Mix\n",
      "GET UP Work Out Playlist\n",
      "Everything Everything: Complete Playlist\n",
      "Shinedown & Fans' Sounds of the Week: Monday Motivation Playlist\n",
      "Shameless US Soundtrack (S1-S8)\n",
      "Destacadas 2016\n"
     ]
    }
   ],
   "source": [
    "\n",
    "for nn in spotify_id_request[\"items\"]:\n",
    "    print(nn[\"name\"])"
   ]
  },
  {
   "cell_type": "code",
   "execution_count": 29,
   "metadata": {},
   "outputs": [
    {
     "data": {
      "text/plain": [
       "<Response [201]>"
      ]
     },
     "execution_count": 29,
     "metadata": {},
     "output_type": "execute_result"
    }
   ],
   "source": [
    "data2=  {\n",
    "        \"uris\": [\"spotify:track:4iV5W9uYEdYUVa79Axb7Rh\"]\n",
    "    }\n",
    "\n",
    "requests.post(\n",
    "                \"https://api.spotify.com/v1/playlists/58cE0J5RXc0Wja7xGad4Jz/tracks\",\n",
    "                headers={\"Authorization\": \"Bearer {}\".format(token), \"Content-Type\": \"application/json\"}, json=data2)"
   ]
  },
  {
   "cell_type": "code",
   "execution_count": 40,
   "metadata": {},
   "outputs": [
    {
     "ename": "NameError",
     "evalue": "name 'false' is not defined",
     "output_type": "error",
     "traceback": [
      "\u001b[1;31m---------------------------------------------------------------------------\u001b[0m",
      "\u001b[1;31mNameError\u001b[0m                                 Traceback (most recent call last)",
      "\u001b[1;32m<ipython-input-40-361d3d4d5962>\u001b[0m in \u001b[0;36m<module>\u001b[1;34m\u001b[0m\n\u001b[0;32m      1\u001b[0m aaa = {\n\u001b[1;32m----> 2\u001b[1;33m    \u001b[1;34m\"collaborative\"\u001b[0m\u001b[1;33m:\u001b[0m \u001b[0mfalse\u001b[0m\u001b[1;33m,\u001b[0m\u001b[1;33m\u001b[0m\u001b[1;33m\u001b[0m\u001b[0m\n\u001b[0m\u001b[0;32m      3\u001b[0m    \u001b[1;34m\"description\"\u001b[0m\u001b[1;33m:\u001b[0m \u001b[0mnull\u001b[0m\u001b[1;33m,\u001b[0m\u001b[1;33m\u001b[0m\u001b[1;33m\u001b[0m\u001b[0m\n\u001b[0;32m      4\u001b[0m    \"external_urls\": {\n\u001b[0;32m      5\u001b[0m      \u001b[1;34m\"spotify\"\u001b[0m\u001b[1;33m:\u001b[0m \u001b[1;34m\"http://open.spotify.com/user/thelinmichael/playlist/7d2D2S200NyUE5KYs80PwO\"\u001b[0m\u001b[1;33m\u001b[0m\u001b[1;33m\u001b[0m\u001b[0m\n",
      "\u001b[1;31mNameError\u001b[0m: name 'false' is not defined"
     ]
    }
   ],
   "source": [
    "aaa = {\n",
    "   \"collaborative\": false,\n",
    "   \"description\": null,\n",
    "   \"external_urls\": {\n",
    "     \"spotify\": \"http://open.spotify.com/user/thelinmichael/playlist/7d2D2S200NyUE5KYs80PwO\"\n",
    "   },\n",
    "   \"followers\": {\n",
    "     \"href\": null,\n",
    "     \"total\": 0\n",
    "   },\n",
    "   \"href\": \"https://api.spotify.com/v1/users/thelinmichael/playlists/7d2D2S200NyUE5KYs80PwO\",\n",
    "   \"id\": \"7d2D2S200NyUE5KYs80PwO\",\n",
    "   \"images\": [ ],\n",
    "   \"name\": \"A New Playlist\",\n",
    "   \"owner\": {\n",
    "     \"external_urls\": {\n",
    "       \"spotify\": \"http://open.spotify.com/user/thelinmichael\"\n",
    "     },\n",
    "     \"href\": \"https://api.spotify.com/v1/users/thelinmichael\",\n",
    "     \"id\": \"thelinmichael\",\n",
    "     \"type\": \"user\",\n",
    "     \"uri\": \"spotify:user:thelinmichael\"\n",
    "   },\n",
    "   \"public\": false,\n",
    "   \"snapshot_id\": \"s0o3TSuYnRLl2jch+oA4OEbKwq/fNxhGBkSPnvhZdmWjNV0q3uCAWuGIhEx8SHIx\",\n",
    "   \"tracks\": {\n",
    "     \"href\": \"https://api.spotify.com/v1/users/thelinmichael/playlists/7d2D2S200NyUE5KYs80PwO/tracks\",\n",
    "     \"items\": [ ],\n",
    "     \"limit\": 100,\n",
    "     \"next\": null,\n",
    "     \"offset\": 0,\n",
    "     \"previous\": null,\n",
    "     \"total\": 0\n",
    "   },\n",
    " \"type\": \"playlist\",\n",
    " \"uri\": \"spotify:user:thelinmichael:playlist:7d2D2S200NyUE5KYs80PwO\"\n",
    "}"
   ]
  },
  {
   "cell_type": "code",
   "execution_count": null,
   "metadata": {},
   "outputs": [],
   "source": []
  }
 ],
 "metadata": {
  "kernelspec": {
   "display_name": "Python 3",
   "language": "python",
   "name": "python3"
  },
  "language_info": {
   "codemirror_mode": {
    "name": "ipython",
    "version": 3
   },
   "file_extension": ".py",
   "mimetype": "text/x-python",
   "name": "python",
   "nbconvert_exporter": "python",
   "pygments_lexer": "ipython3",
   "version": "3.6.9"
  }
 },
 "nbformat": 4,
 "nbformat_minor": 2
}
