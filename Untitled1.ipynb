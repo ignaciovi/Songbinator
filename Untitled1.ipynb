{
 "cells": [
  {
   "cell_type": "code",
   "execution_count": 1,
   "metadata": {},
   "outputs": [],
   "source": [
    "import spotipy\n",
    "import spotipy.util as util\n",
    "\n",
    "token = util.prompt_for_user_token(\n",
    "        username=\"ignaciovi21\",\n",
    "        scope=\"playlist-modify-public playlist-modify-private\",\n",
    "        client_id=\"b9147e7fb3954d24a264480d4a63700d\",\n",
    "        client_secret=\"45f9260cb0174d4aa27d58738e0e3791\",\n",
    "    redirect_uri=\"http://127.0.0.1:5000/\"\n",
    ")\n",
    "\n",
    "spotify = spotipy.Spotify(auth=token)"
   ]
  },
  {
   "cell_type": "code",
   "execution_count": 3,
   "metadata": {},
   "outputs": [
    {
     "data": {
      "text/plain": [
       "{'collaborative': False,\n",
       " 'description': None,\n",
       " 'external_urls': {'spotify': 'https://open.spotify.com/playlist/3K6ULSsAQihO1iZurUYE5Q'},\n",
       " 'followers': {'href': None, 'total': 0},\n",
       " 'href': 'https://api.spotify.com/v1/playlists/3K6ULSsAQihO1iZurUYE5Q',\n",
       " 'id': '3K6ULSsAQihO1iZurUYE5Q',\n",
       " 'images': [],\n",
       " 'name': 'TestPlaylist',\n",
       " 'owner': {'display_name': 'Nacho Valdelvira Isla',\n",
       "  'external_urls': {'spotify': 'https://open.spotify.com/user/ignaciovi21'},\n",
       "  'href': 'https://api.spotify.com/v1/users/ignaciovi21',\n",
       "  'id': 'ignaciovi21',\n",
       "  'type': 'user',\n",
       "  'uri': 'spotify:user:ignaciovi21'},\n",
       " 'primary_color': None,\n",
       " 'public': True,\n",
       " 'snapshot_id': 'MSxkNDQ5OGJlNmU2NjFiMDM3MjY0ZTYxZTRmYmFiYjVkNTJlYTZiM2Uz',\n",
       " 'tracks': {'href': 'https://api.spotify.com/v1/playlists/3K6ULSsAQihO1iZurUYE5Q/tracks',\n",
       "  'items': [],\n",
       "  'limit': 100,\n",
       "  'next': None,\n",
       "  'offset': 0,\n",
       "  'previous': None,\n",
       "  'total': 0},\n",
       " 'type': 'playlist',\n",
       " 'uri': 'spotify:playlist:3K6ULSsAQihO1iZurUYE5Q'}"
      ]
     },
     "execution_count": 3,
     "metadata": {},
     "output_type": "execute_result"
    }
   ],
   "source": [
    "spotify.user_playlist_create(\"ignaciovi21\", \"TestPlaylist\", True)"
   ]
  },
  {
   "cell_type": "code",
   "execution_count": null,
   "metadata": {},
   "outputs": [],
   "source": []
  },
  {
   "cell_type": "code",
   "execution_count": null,
   "metadata": {},
   "outputs": [],
   "source": []
  }
 ],
 "metadata": {
  "kernelspec": {
   "display_name": "Python 3",
   "language": "python",
   "name": "python3"
  },
  "language_info": {
   "codemirror_mode": {
    "name": "ipython",
    "version": 3
   },
   "file_extension": ".py",
   "mimetype": "text/x-python",
   "name": "python",
   "nbconvert_exporter": "python",
   "pygments_lexer": "ipython3",
   "version": "3.6.9"
  }
 },
 "nbformat": 4,
 "nbformat_minor": 2
}
