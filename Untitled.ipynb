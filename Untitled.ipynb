{
 "cells": [
  {
   "cell_type": "code",
   "execution_count": null,
   "metadata": {},
   "outputs": [],
   "source": [
    "import spotipy.oauth2 as oauth2\n",
    "import requests\n",
    "\n",
    "creds = oauth2.SpotifyClientCredentials(client_id=\"b9147e7fb3954d24a264480d4a63700d\", \n",
    "                                        client_secret=\"45f9260cb0174d4aa27d58738e0e3791\",\n",
    "                                       scope=\"playlist-modify-public playlist-modify-private\")\n",
    "token = creds.get_access_token()\n",
    "\n",
    "\n",
    "artist_name = \"Radiohead\"\n",
    "\n",
    "spotify_id_request = requests.get(\n",
    "        \"https://api.spotify.com/v1/search?q={}&type=artist\".format(artist_name),\n",
    "        headers={\"Authorization\": \"Bearer {}\".format(token)}).json()\n",
    "\n",
    "artist_id = spotify_id_request[\"artists\"][\"items\"][0][\"id\"]\n",
    "\n",
    "spotify_id_request = requests.get(\n",
    "    \"https://api.spotify.com/v1/artists/{}/top-tracks?country=US\".format(artist_id),\n",
    "    headers={\"Authorization\": \"Bearer {}\".format(token)}).json()"
   ]
  },
  {
   "cell_type": "code",
   "execution_count": null,
   "metadata": {},
   "outputs": [],
   "source": [
    "[(track[\"name\"], track[\"id\"]) for track in spotify_id_request[\"tracks\"]]"
   ]
  },
  {
   "cell_type": "code",
   "execution_count": null,
   "metadata": {},
   "outputs": [],
   "source": [
    "spotify_id_request[\"tracks\"][0][\"id\"]"
   ]
  },
  {
   "cell_type": "code",
   "execution_count": null,
   "metadata": {},
   "outputs": [],
   "source": [
    "spotify_id_request = requests.post(\"https://api.spotify.com/v1/users/ignaciovi21/playlists\", \n",
    "                                   headers={\"Authorization\": \"Bearer {}\".format(token), \n",
    "                                            \"Accept\": \"application/json\", \"Content-Type\": \"application/json\"}, \n",
    "                                   data={\"name\":\"Test\", \"description\": \"ts\", \"public\": False})"
   ]
  },
  {
   "cell_type": "code",
   "execution_count": null,
   "metadata": {},
   "outputs": [],
   "source": [
    "spotify_id_request"
   ]
  },
  {
   "cell_type": "code",
   "execution_count": 1,
   "metadata": {},
   "outputs": [],
   "source": [
    "import spotipy\n",
    "import spotipy.util as util\n",
    "\n",
    "token = util.prompt_for_user_token(\n",
    "        username=\"ignaciovi21\",\n",
    "        scope=\"playlist-modify-public playlist-modify-private\",\n",
    "        client_id=\"b9147e7fb3954d24a264480d4a63700d\",\n",
    "        client_secret=\"45f9260cb0174d4aa27d58738e0e3791\",\n",
    "    redirect_uri=\"http://127.0.0.1:5000/\"\n",
    ")\n",
    "\n",
    "spotify = spotipy.Spotify(auth=token)"
   ]
  },
  {
   "cell_type": "code",
   "execution_count": null,
   "metadata": {},
   "outputs": [],
   "source": [
    "token"
   ]
  },
  {
   "cell_type": "code",
   "execution_count": null,
   "metadata": {},
   "outputs": [],
   "source": [
    "spotify.user_playlist_create(\"ignaciovi21\", \"TestPlaylist\", True)"
   ]
  },
  {
   "cell_type": "code",
   "execution_count": null,
   "metadata": {},
   "outputs": [],
   "source": [
    "spotify.user_playlist_add_tracks(\"ignaciovi21\", '5xCc2IbnScWgHflvYbcdtU', [\"6b2oQwSGFkzsMtQruIWm2p\"])"
   ]
  },
  {
   "cell_type": "code",
   "execution_count": null,
   "metadata": {},
   "outputs": [],
   "source": [
    "result = spotify.user_playlists(\"ignaciovi21\")\n",
    "result[\"items\"][0][\"id\"]"
   ]
  },
  {
   "cell_type": "code",
   "execution_count": null,
   "metadata": {},
   "outputs": [],
   "source": [
    "spotify_id_request"
   ]
  },
  {
   "cell_type": "code",
   "execution_count": null,
   "metadata": {},
   "outputs": [],
   "source": [
    "\n",
    "creds = oauth2.SpotifyClientCredentials(client_id=\"c2d07b756064444495ab44c7d14d4a81\", client_secret=\"c6bae7d2398d4098b0d1435d7a7cf486\")\n",
    "token = creds.get_access_token()\n",
    "\n",
    "artist_name = \"Radiohead\"\n",
    "\n",
    "spotify_id_request = requests.get(\n",
    "        \"https://api.spotify.com/v1/search?q={}&type=artist\".format(artist_name),\n",
    "        headers={\"Authorization\": \"Bearer {}\".format(token)}).json()\n",
    "\n",
    "artist_id = spotify_id_request[\"artists\"][\"items\"][0][\"id\"]\n",
    "\n",
    "spotify_id_request = requests.get(\n",
    "\"https://api.spotify.com/v1/artists/{}/top-tracks?country=US\".format(artist_id),\n",
    "headers={\"Authorization\": \"Bearer {}\".format(token)}).json()\n",
    "\n",
    "songs =[(track[\"name\"], track[\"id\"]) for track in spotify_id_request[\"tracks\"]]"
   ]
  },
  {
   "cell_type": "code",
   "execution_count": null,
   "metadata": {},
   "outputs": [],
   "source": [
    "spotify_id_request[\"tracks\"][0]"
   ]
  },
  {
   "cell_type": "code",
   "execution_count": null,
   "metadata": {},
   "outputs": [],
   "source": []
  }
 ],
 "metadata": {
  "kernelspec": {
   "display_name": "Python 3",
   "language": "python",
   "name": "python3"
  },
  "language_info": {
   "codemirror_mode": {
    "name": "ipython",
    "version": 3
   },
   "file_extension": ".py",
   "mimetype": "text/x-python",
   "name": "python",
   "nbconvert_exporter": "python",
   "pygments_lexer": "ipython3",
   "version": "3.6.9"
  }
 },
 "nbformat": 4,
 "nbformat_minor": 2
}
